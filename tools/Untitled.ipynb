{
 "cells": [
  {
   "cell_type": "code",
   "execution_count": 7,
   "id": "adaptive-timber",
   "metadata": {},
   "outputs": [],
   "source": [
    "import json, os, re\n",
    "from ckiptagger import data_utils, construct_dictionary, WS, POS, NER\n",
    "from opencc import OpenCC\n",
    "cc_t2s = OpenCC('t2s')\n",
    "cc_s2t = OpenCC('s2t')"
   ]
  },
  {
   "cell_type": "code",
   "execution_count": 8,
   "id": "subject-cursor",
   "metadata": {
    "scrolled": true
   },
   "outputs": [
    {
     "name": "stderr",
     "output_type": "stream",
     "text": [
      "2022-10-31 04:00:56.940540: I tensorflow/core/common_runtime/gpu/gpu_device.cc:1525] Created device /job:localhost/replica:0/task:0/device:GPU:0 with 22307 MB memory:  -> device: 0, name: NVIDIA GeForce RTX 3090, pci bus id: 0000:17:00.0, compute capability: 8.6\n",
      "2022-10-31 04:01:00.382183: I tensorflow/core/common_runtime/gpu/gpu_device.cc:1525] Created device /job:localhost/replica:0/task:0/device:GPU:0 with 22307 MB memory:  -> device: 0, name: NVIDIA GeForce RTX 3090, pci bus id: 0000:17:00.0, compute capability: 8.6\n",
      "2022-10-31 04:01:03.860793: I tensorflow/core/common_runtime/gpu/gpu_device.cc:1525] Created device /job:localhost/replica:0/task:0/device:GPU:0 with 22307 MB memory:  -> device: 0, name: NVIDIA GeForce RTX 3090, pci bus id: 0000:17:00.0, compute capability: 8.6\n"
     ]
    }
   ],
   "source": [
    "path = \"/home/zchen/encyclopedia-text-style-transfer/tools/ckip/\"\n",
    "data_utils.download_data_url(path)\n",
    "os.environ[\"CUDA_VISIBLE_DEVICES\"] = \"0\"\n",
    "\n",
    "path = path + \"data\"\n",
    "ws = WS(path, disable_cuda=False)\n",
    "pos = POS(path, disable_cuda=False)\n",
    "ner = NER(path, disable_cuda=False)"
   ]
  },
  {
   "cell_type": "code",
   "execution_count": 9,
   "id": "fresh-practice",
   "metadata": {},
   "outputs": [],
   "source": [
    "file = \"/home/zchen/encyclopedia-text-style-transfer/data/ETST/wiki_baidu_articles_pairs.json\"\n",
    "with open(file, 'r', encoding=\"utf-8\") as f:\n",
    "    art_pairs = json.load(f)"
   ]
  },
  {
   "cell_type": "code",
   "execution_count": 10,
   "id": "center-trustee",
   "metadata": {},
   "outputs": [
    {
     "name": "stdout",
     "output_type": "stream",
     "text": [
      "44\n"
     ]
    }
   ],
   "source": [
    "print(len(art_pairs))"
   ]
  },
  {
   "cell_type": "code",
   "execution_count": 11,
   "id": "quarterly-capital",
   "metadata": {
    "scrolled": true
   },
   "outputs": [
    {
     "name": "stdout",
     "output_type": "stream",
     "text": [
      "115 98\n",
      "98 115\n",
      "(1 / 44)\n",
      "177 352\n",
      "352 177\n",
      "(2 / 44)\n",
      "62 5\n",
      "5 62\n",
      "(3 / 44)\n",
      "22 11\n",
      "11 22\n",
      "(4 / 44)\n",
      "110 104\n",
      "104 110\n",
      "(5 / 44)\n",
      "13 83\n",
      "83 13\n",
      "(6 / 44)\n",
      "13 104\n",
      "104 13\n",
      "(7 / 44)\n",
      "29 70\n",
      "70 29\n",
      "(8 / 44)\n",
      "131 174\n",
      "174 131\n",
      "(9 / 44)\n",
      "22 33\n",
      "33 22\n",
      "(10 / 44)\n",
      "79 154\n",
      "154 79\n",
      "(11 / 44)\n",
      "62 25\n",
      "25 62\n",
      "(12 / 44)\n",
      "4 10\n",
      "10 4\n",
      "(13 / 44)\n",
      "28 105\n",
      "105 28\n",
      "(14 / 44)\n",
      "43 19\n",
      "19 43\n",
      "(15 / 44)\n",
      "18 114\n",
      "114 18\n",
      "(16 / 44)\n",
      "67 101\n",
      "101 67\n",
      "(17 / 44)\n",
      "15 5\n",
      "5 15\n",
      "(18 / 44)\n",
      "224 205\n",
      "205 224\n",
      "(19 / 44)\n",
      "13 3\n",
      "3 13\n",
      "(20 / 44)\n",
      "20 39\n",
      "39 20\n",
      "(21 / 44)\n",
      "4 32\n",
      "32 4\n",
      "(22 / 44)\n",
      "78 40\n",
      "40 78\n",
      "(23 / 44)\n",
      "32 28\n",
      "28 32\n",
      "(24 / 44)\n",
      "10 61\n",
      "61 10\n",
      "(25 / 44)\n",
      "91 2\n",
      "2 91\n",
      "(26 / 44)\n",
      "33 55\n",
      "55 33\n",
      "(27 / 44)\n",
      "19 137\n",
      "137 19\n",
      "(28 / 44)\n",
      "98 111\n",
      "111 98\n",
      "(29 / 44)\n",
      "137 146\n",
      "146 137\n",
      "(30 / 44)\n",
      "36 73\n",
      "73 36\n",
      "(31 / 44)\n",
      "19 35\n",
      "35 19\n",
      "(32 / 44)\n",
      "17 140\n",
      "140 17\n",
      "(33 / 44)\n",
      "76 401\n",
      "401 76\n",
      "(34 / 44)\n",
      "18 47\n",
      "47 18\n",
      "(35 / 44)\n",
      "102 13\n",
      "13 102\n",
      "(36 / 44)\n",
      "17 24\n",
      "24 17\n",
      "(37 / 44)\n",
      "51 43\n",
      "43 51\n",
      "(38 / 44)\n",
      "37 66\n",
      "66 37\n",
      "(39 / 44)\n",
      "68 113\n",
      "113 68\n",
      "(40 / 44)\n",
      "14 2\n",
      "2 14\n",
      "(41 / 44)\n",
      "147 79\n",
      "79 147\n",
      "(42 / 44)\n",
      "6 10\n",
      "10 6\n",
      "(43 / 44)\n",
      "2 29\n",
      "29 2\n",
      "(44 / 44)\n"
     ]
    }
   ],
   "source": [
    "def get_baidu_sents_str_from_pairs(pairs):\n",
    "    sents = []\n",
    "    for src, targs in pairs:\n",
    "        sents += [targ for targ, score in targs]\n",
    "    return '\\n'.join(sents)\n",
    "\n",
    "def arts2sents_str(arts):\n",
    "    return '\\n'.join(list(arts.values()))\n",
    "    \n",
    "def get_s_t(s):\n",
    "    s_s, s_t = cc_t2s.convert(s), cc_s2t.convert(s)\n",
    "    s_s = [sent for sent in s_s.split('\\n') if len(sent) > 5]\n",
    "    s_t = [sent for sent in s_t.split('\\n') if len(sent) > 5]\n",
    "    assert len(s_s) == len(s_t), (len(s_s), len(s_t))\n",
    "    \n",
    "    zipped = list(zip(s_s, s_t))\n",
    "    zipped = list(set(zipped))\n",
    "    s_s, s_t = list(zip(*zipped))\n",
    "    assert len(s_s) == len(s_t), (len(s_s), len(s_t))\n",
    "    return s_s, s_t\n",
    "    \n",
    "def sents2ents(sentence_list):\n",
    "    word_sentence_list = ws(\n",
    "        sentence_list,\n",
    "        # sentence_segmentation = True, # To consider delimiters\n",
    "        # segment_delimiter_set = {\",\", \"。\", \":\", \"?\", \"!\", \";\"}), # This is the defualt set of delimiters\n",
    "        # recommend_dictionary = dictionary1, # words in this dictionary are encouraged\n",
    "        # coerce_dictionary = dictionary2, # words in this dictionary are forced\n",
    "    )\n",
    "    pos_sentence_list = pos(word_sentence_list)\n",
    "    entity_sentence_list = ner(word_sentence_list, pos_sentence_list)\n",
    "    \n",
    "    ent_sents = []\n",
    "    for sent, word_sent, pos_sent, ent_sent in zip(sentence_list, word_sentence_list, pos_sentence_list, entity_sentence_list):\n",
    "        ents = [word for word, pos in zip(word_sent, pos_sent) if re.match(r\"N[a-d]\", pos)]\n",
    "        # re.match() determines whether the pattern matches the beginning of the string,\n",
    "        # returns the matching object if it matches, and returns None if it does not match.\n",
    "        \n",
    "        ents += [ent[3] for ent in ent_sent]\n",
    "        ent_sents.append(set(ents))\n",
    "    return ent_sents\n",
    "    \n",
    "def get_score(src_ent_sent, targ_ent_sent):\n",
    "    intersection_len = len(src_ent_sent & targ_ent_sent)\n",
    "    if intersection_len == 0:\n",
    "        return 0\n",
    "    precision = intersection_len / len(targ_ent_sent)\n",
    "    recall = intersection_len / len(src_ent_sent)\n",
    "    targ_len = len(targ_ent_sent)\n",
    "    return (2*precision*recall) / (precision+recall)\n",
    "    \n",
    "def filter_sent(zipped, p):\n",
    "    \"\"\" filtering strategy, e.g., highest k sents or a threshold score p \"\"\"\n",
    "#     return zipped[:k]\n",
    "    \n",
    "    sents = []\n",
    "    for sent, score in zipped:\n",
    "        if score >= p:\n",
    "            sents.append((sent, score))\n",
    "        else:\n",
    "            break\n",
    "    return sents\n",
    "\n",
    "def get_pair(src_sent, targ_sents, src_ent_sent, targ_ent_sents):\n",
    "    scores = [get_score(src_ent_sent, targ_ent_sent) for targ_ent_sent in targ_ent_sents]\n",
    "    zipped = list(zip(targ_sents, scores))\n",
    "    zipped.sort(key=lambda x: x[1], reverse=True)\n",
    "    matched = filter_sent(zipped, p=0.3)\n",
    "    return (src_sent, matched)\n",
    "\n",
    "def get_pairs(src_sents_str, targ_sents_str):\n",
    "    src_sents_s, src_sents_t = get_s_t(src_sents_str)\n",
    "    targ_sents_s, targ_sents_t = get_s_t(targ_sents_str)\n",
    "    print(len(src_sents_s), len(targ_sents_s))\n",
    "    src_ent_sents, targ_ent_sents = sents2ents(src_sents_t), sents2ents(targ_sents_t)\n",
    "    return [get_pair(src_sent, targ_sents_s, src_ent_sent, targ_ent_sents) for src_sent, src_ent_sent in zip(src_sents_s, src_ent_sents)]\n",
    "\n",
    "sent_pairs_w2b, sent_pairs_b2w = [], []\n",
    "\"\"\"\n",
    "[\n",
    "    (src_sent_1, [(targ_sent_n, score), ...]),\n",
    "    ...\n",
    "    ]\n",
    "\"\"\"\n",
    "\n",
    "total = len(art_pairs)\n",
    "for i, (title, (wiki_arts, baidu_arts)) in enumerate(art_pairs.items()):\n",
    "    wiki_sents_str, baidu_sents_str = arts2sents_str(wiki_arts), arts2sents_str(baidu_arts)\n",
    "    wiki2baidu = get_pairs(wiki_sents_str, baidu_sents_str)    # src: wiki, targ: baidu\n",
    "    baidu2wiki = get_pairs(baidu_sents_str, wiki_sents_str)    # src: baidu, targ: wiki\n",
    "    sent_pairs_w2b += wiki2baidu\n",
    "    sent_pairs_b2w += baidu2wiki\n",
    "    print(f\"({i + 1} / {total})\")"
   ]
  },
  {
   "cell_type": "code",
   "execution_count": 13,
   "id": "first-climb",
   "metadata": {},
   "outputs": [],
   "source": [
    "def save_json(file, obj):\n",
    "    with open(file, 'w', encoding=\"utf-8\") as f:\n",
    "        json.dump(obj, f, ensure_ascii=False)\n",
    "        \n",
    "file = \"/home/zchen/encyclopedia-text-style-transfer/data/ETST/sents_pairs_b2w.json\"\n",
    "save_json(file, sent_pairs_b2w)\n",
    "file = \"/home/zchen/encyclopedia-text-style-transfer/data/ETST/sents_pairs_w2b.json\"\n",
    "save_json(file, sent_pairs_w2b)"
   ]
  },
  {
   "cell_type": "code",
   "execution_count": 12,
   "id": "pressed-hopkins",
   "metadata": {
    "scrolled": true
   },
   "outputs": [
    {
     "name": "stdout",
     "output_type": "stream",
     "text": [
      "4758 2.0\n",
      "[('金门县市区公车由金门县县营事业机构金门县公共车船管理处营运 ，有四个营运车站：金城车站、山外车站、沙美车站、烈屿车站。总计有29线编有编号的一般公车路线，以及5条台湾好行观光公车路线。', []), ('金门县辖有三镇（金城镇、金湖镇、金沙镇）、三乡（金宁乡、烈屿乡、乌坵乡（代管））。', [('金门县辖3个镇、2个乡，分别是金城镇、金湖镇、金沙镇、金宁乡、烈屿乡。', 0.6666666666666666), ('1954年6月，台当局在其控制的莆田县乌丘屿设置乌丘乡（乌丘村），由于莆田县主体已全部由中国大陆统治，故指定暂由金门县代管，此时金门县辖金城镇、金沙镇、金宁乡、金湖乡、金山乡、烈屿乡、乌丘乡（乌丘村）等二镇五乡。', 0.3888888888888889)]), ('另有代管的乌坵乡二岛屿（大坵与小坵），则地处东经119度28分，北纬24度59分，位在中华人民共和国福建省莆田外海。离金门本岛相距72海浬，大约位于金门与马祖中心点。', []), ('金门县县长是金门县政府之行政首长，负责综理县政，并指挥、监督所属职员及机构。现任金门县长杨镇浯为中国国民党籍第7届金门县县长。', []), ('民间文学方面的著作及编辑，有：林永塘《浯洲俗谚集》、吴家箴《浯岛情怀》、许丕华《浯乡俗谚风华录》、唐蕙韵整理《金门民间文学集.传说故事卷》。', []), ('2013年起，厦门大嶝岛与小嶝岛间填海造陆，越界盗采海砂，导致金门沿岸国土流失，古迹、碉堡设施损毁，海岸线侵蚀倒退情况严重。', []), ('几十年来，金门一直面临着居民供水困难的问题，原因包括湖水浅、雨量少、地理条件限制等，使得建水库和水坝难以实现。因此，金门经常过度使用地下水，导致潮洪上升，土壤盐碱化。', []), ('金门县政府在金门的教育上投入了数百万，平均每个学生两万元。福建的学校也接受越来越多父母在福建经商的台湾学生。县政府一直在努力鼓励台湾和大陆的大学在金门设立分校，并吸引大陆大陆学生到金门学习。', []), ('民国三十四年（1945年）第二次世界大战结束后，中华民国收复金门，设二镇四乡；民国35年（1946年）变更为二镇二乡。', [('民国三十四年（1945年）第二次世界大战结束后，中华民国收回金门，设二镇四乡；民国三十五年（1946年）变更为二镇二乡。', 0.8484848484848485)]), ('元朝统治（1343年-1368年），金门（旧称浯洲）金沙湾周围设有官镇埕、永安埕、田墩埕、浦头埕、沙美埕、斗门埕及南埕（今之刘澳、浦边至琼林一带）、保林（今之西浦头至古宁头一带）、东沙、烈屿（今之小金门上库至上林一带）等10个盐埕，官府为求实质统治与兴办教育，遂于浯洲凤翔里十七都后学村（今沙美），设置浯洲盐场司官阶从七品「今金沙国中游泳池至东埔一带」与浯洲书院「今沙美菜市场，渭阳 马阙 司令创建」，当时浯洲（金门旧称）盐产业到达颠峰，因盐场多集中于沙美区，造就沙美老街（砂尾街）万商云集与百业繁荣之极盛景况。', [('元朝统治时期（1343年-1368年），中央为求实质统治，遂于浯洲凤翔里十七都后学村（今沙美），设置浯洲盐场司（官职从七品官，在今金沙国中至东埔及荣光新村一带）及浯洲书院（现今之沙美菜市场），沙美因处金沙湾与汶水溪及金沙溪交汇处。在元代，系为金门地区最高行政机关浯洲盐场司与浯洲书院之旧址（元朝浯洲盐场司马阙司令兴建）。过往的金沙地区更是金门地区居住人口与风狮爷最为稠密的地方（金门全岛共64尊风狮爷，金沙镇则高达39尊、沙美有3尊）。', 0.3934426229508197)])]\n"
     ]
    }
   ],
   "source": [
    "n_pairs = sum([len(pair) for pair in sent_pairs_w2b])\n",
    "avg_pairs = n_pairs / len(sent_pairs_w2b)\n",
    "print(n_pairs, avg_pairs)\n",
    "print(sent_pairs_w2b[:10])"
   ]
  },
  {
   "cell_type": "code",
   "execution_count": 18,
   "id": "limiting-metadata",
   "metadata": {
    "scrolled": true
   },
   "outputs": [
    {
     "name": "stdout",
     "output_type": "stream",
     "text": [
      "7002 2.0\n",
      "[('民国三十四年（1945年）第二次世界大战结束后，中华民国收回金门，设二镇四乡；民国三十五年（1946年）变更为二镇二乡。', [('民国三十四年（1945年）第二次世界大战结束后，中华民国收复金门，设二镇四乡；民国35年（1946年）变更为二镇二乡。', 0.8484848484848485)]), ('御赐里琼林坊：琼林旧称平林，因贤才尽出故明熹宗天启五年被御赐为琼林。琼林村的蔡氏家族，是明朝中叶从河南开封迁徙而来，明熹宗天启五年，因为平林籍的进士蔡献臣赶走蛮夷有功，于是赐里名“琼林”。琼林家庙经文建会评其为“十四世宗祠”，为台湾地区“国家”二级古迹。', []), ('据史料记载：“鲁王为明太祖九世孙，名朱以海．京师既陷，转徙台州，张国雄等迎居绍兴，称鲁监国，督师江上，画钱塘而守。后为清兵所克，遁入海，依郑成功，辗转到金门，去监国号。成功初以礼待之，后渐懈，以海不能平，将往南澳，成功使人沉之海”；另据《辞海大事记》记载：康熙元年（1662年），鲁王薨于台湾，两处记载互相矛盾，还有待进一步考证。', []), ('2004年，金门县财政总收入1812637万元新台币；人均所得308202元新台币；人均生产总值329656元新台币。', []), ('金门属于亚热带季风气候，全年降雨多集中于四至八月，台风多生于七、八月，全年风向东风占8个月，每年五至八月为东南风及南风。因金门为在海峡中之岛屿，四面无高山屏障，中间则丘陵起伏，故风力较强，夏有西南海风的吹拂，每到清明时候常带来浓雾，台金交通常受影响；东有强烈的东北季风。', []), ('金门的地层，以花岗片麻岩为主，分布甚为广阔，约占总面积一半。岛上土壤概以砂土及裸露红壤土为代表。前者沙层厚、保水保肥力均差；后者表土薄、酸性重，腐植质少，皆不宜耕作，故岛上农作仅宜价值较低之耐旱性杂粮：如高粱、玉米、花生、番薯等。由于四面环海，浅滩深澳，鱼虾贝介类滋生，滨海居民乃讨生计于大海中，然因渔业资源有限，兼且幅员狭窄，地力贫瘠，雨量稀少，农产不丰，只有少量之杂粮与蔬菜。居民乃远渡重洋，谋生异域，或移居台澎，或远适南洋，金门华侨足迹遍布东南亚，人口总数达二十余万之众，自古就有“侨乡”之称。', []), ('由于发掘了鲁王真圹，在出土志里，说明旧时的谬误之处。据载王世系事迹綦详，卒年为王寅康熙元年（1662年），并云王素患哮疾，中痰而死。文武百官遂将其葬于金门东门外的青山上，前有湖水，右有石峰。王屡游其地，曾题“汉影云根”四字于石上。', []), ('明末清军入关后，明思宗自缢，天下大乱，南明各王四处流亡。鲁王朱以海辗转到金门，寓居七年之久，因时局太乱，死后秘密葬在金门，不敢立碑。1959年夏季，金门“国军”在旧金城东古岗湖西发现鲁王真冢。', []), ('金门的主要地形为起伏的花岗岩地形，岛上最高峰为太武山（其高为253米，其上有“毋忘在莒”蒋中正的手书），雄势雄伟，独冠屿上，近观之若兜鍪状，故名太武。其石纷纠萦纡若印章篆刻，又称“海印”，隔海远望，如仙人偃卧（仙人倒地卧不起之形），海上人因别呼之为“仙山”。', []), ('按“一个中国”原则和“九二共识”，其单方面表述为“中华民国福建省”。', [])]\n"
     ]
    }
   ],
   "source": [
    "n_pairs = sum([len(pair) for pair in sent_pairs_b2w])\n",
    "avg_pairs = n_pairs / len(sent_pairs_b2w)\n",
    "print(n_pairs, avg_pairs)\n",
    "print(sent_pairs_b2w[:10])"
   ]
  },
  {
   "cell_type": "code",
   "execution_count": 16,
   "id": "stuffed-girlfriend",
   "metadata": {},
   "outputs": [],
   "source": [
    "def pairs2dataset(pairs):\n",
    "    dataset = []\n",
    "    for src, targs in pairs:\n",
    "        dataset += [(src, targ) for targ, score in targs]\n",
    "    return dataset"
   ]
  },
  {
   "cell_type": "code",
   "execution_count": 17,
   "id": "several-dialogue",
   "metadata": {
    "scrolled": true
   },
   "outputs": [
    {
     "name": "stdout",
     "output_type": "stream",
     "text": [
      "2838\n",
      "[('民国三十四年（1945年）第二次世界大战结束后，中华民国收回金门，设二镇四乡；民国三十五年（1946年）变更为二镇二乡。', '民国三十四年（1945年）第二次世界大战结束后，中华民国收复金门，设二镇四乡；民国35年（1946年）变更为二镇二乡。'), ('元朝统治时期（1343年-1368年），中央为求实质统治，遂于浯洲凤翔里十七都后学村（今沙美），设置浯洲盐场司（官职从七品官，在今金沙国中至东埔及荣光新村一带）及浯洲书院（现今之沙美菜市场），沙美因处金沙湾与汶水溪及金沙溪交汇处。在元代，系为金门地区最高行政机关浯洲盐场司与浯洲书院之旧址（元朝浯洲盐场司马阙司令兴建）。过往的金沙地区更是金门地区居住人口与风狮爷最为稠密的地方（金门全岛共64尊风狮爷，金沙镇则高达39尊、沙美有3尊）。', '元朝统治（1343年-1368年），金门（旧称浯洲）金沙湾周围设有官镇埕、永安埕、田墩埕、浦头埕、沙美埕、斗门埕及南埕（今之刘澳、浦边至琼林一带）、保林（今之西浦头至古宁头一带）、东沙、烈屿（今之小金门上库至上林一带）等10个盐埕，官府为求实质统治与兴办教育，遂于浯洲凤翔里十七都后学村（今沙美），设置浯洲盐场司官阶从七品「今金沙国中游泳池至东埔一带」与浯洲书院「今沙美菜市场，渭阳 马阙 司令创建」，当时浯洲（金门旧称）盐产业到达颠峰，因盐场多集中于沙美区，造就沙美老街（砂尾街）万商云集与百业繁荣之极盛景况。'), ('民国二十二年（1933年）福建事变发生后一度由中华共和国所据，划为泉海省（后改称兴泉省）。', '金门县地原属思明县。1914年7月，析思明县设立金门县，隶属厦门道。民国17年（1928年），废除道制，金门县直属福建省。1933年福建事变发生后，12月11日，金门隶属中华共和国泉海省（12月13日更名为兴泉省）。1934年1月，中华共和国被南京国民政府消灭后，金门县隶属福建省。1934年7月，福建省设立十个行政督察区，金门县隶属第五行政督察区。1935年10月，福建省改为7个行政督察区，金门县隶属第四行政督察区。'), ('将金门主体全境划分为金东、金西、烈屿三个军管区，各设民政处管辖地方行政，下辖城厢区、金城区、金盘区、沧湖区、碧湖区、金沙区、烈屿区、古宁区、琼浦区等九个区公所。', '民国37年（1948年）12月10日，中华民国政府发布全国戒严令，从此金门县进入戒严。民国38年（1949年）年初，改为金城、沙美、烈屿、大嶝四区区公所。8月17日，福州被解放军占领，福建省政府随著中华民国国军从福州市迁至金门，金门乃成为福建省省会所在地。同年10月，解放军进占福建沿海，中华民国国军自嶝岛群岛（大嶝、小嶝）撤退，古宁头战役爆发，金门全境进入「军管时期」，同年11月古宁头战役结束后，金门县政府建制被撤销，中华民国国军将金门全境划分为金东、金西、烈屿三个军管区，各设民政处管辖地方行政，下辖城厢区、金城区、金盘区、沧湖区、碧湖区、金沙区、烈屿区、古宁区、琼浦区等九个区公所。'), ('2010年9月26日，据台湾《联合报》报道，有台湾记者在Google地图上查询金门时，发现地图标注其为“中华人民共和国福建省泉州市金门县人民政府”。金门县政府表示，将向Google网站反映，要求“尽快更正”。', '2010年9月26日，台湾《联合报》报道，在Google地图上查询金门时，发现地图标注其为“中华人民共和国福建省泉州市金门县人民政府”。中华民国金门县政府表示，将向Google反映，要求尽快更正。'), ('2010年9月26日，据台湾《联合报》报道，有台湾记者在Google地图上查询金门时，发现地图标注其为“中华人民共和国福建省泉州市金门县人民政府”。金门县政府表示，将向Google网站反映，要求“尽快更正”。', '民国107年（2018年）8月5日，中华人民共和国福建省泉州市正式向金门供水，缓解金门缺水问题，水源为山美水库。'), ('2010年9月26日，据台湾《联合报》报道，有台湾记者在Google地图上查询金门时，发现地图标注其为“中华人民共和国福建省泉州市金门县人民政府”。金门县政府表示，将向Google网站反映，要求“尽快更正”。', '中华人民共和国成立后，曾在1955年到1970年设立金门县人民政府，历任县长为：'), ('2010年9月26日，据台湾《联合报》报道，有台湾记者在Google地图上查询金门时，发现地图标注其为“中华人民共和国福建省泉州市金门县人民政府”。金门县政府表示，将向Google网站反映，要求“尽快更正”。', '金门县，从未由中华人民共和国统治过，中华人民共和国福建省泉州市下辖县只是自己声称，并无任何实质管辖，由于第二次国共战争中国共产党自中华民国独立，建立中华人民共和国之后，自1970年12月将该建制下唯一由中华人民共和国控制的大小嶝地区划入同安县后，该行政规划就只处于自我声称而未能实施正式管辖，事实上这里一直以来皆是中华民国台湾进行统治与管辖。'), ('2010年9月26日，据台湾《联合报》报道，有台湾记者在Google地图上查询金门时，发现地图标注其为“中华人民共和国福建省泉州市金门县人民政府”。金门县政府表示，将向Google网站反映，要求“尽快更正”。', '1985年5月14日，经中华人民共和国国务院批准，撤销晋江地区，设立泉州市，金门县隶属泉州市。'), ('金门位于福建省东南海上，地处东经118度32分，北纬24度44分，位于九龙江口外，与厦门湾口遥望，金门位于屹立台湾海峡中，东距基隆198海里，东南距澎湖82海里，距高雄160海里，西距厦门约18海里，距离福建省厦门市东南端的角屿仅1.8公里，离台湾岛有210公里。金门岛形如锭，东西长约20公里，南北最长处约15.5公里，中部狭窄处仅3公里，包括金门本岛（大金门）、烈屿（小金门）、大胆、二胆、狮屿、猛虎屿、草屿、后屿、东碇岛、复兴屿等十二个大小岛屿，总面积151.656平方公里。', '金门地处东经118度32分，北纬24度44分，位于九龙江口外，与厦门湾口遥望，距离中华人民共和国实际管辖的角屿仅1.8公里，离台湾岛有210公里。包括金门本岛（大金门）、烈屿（小金门）、大胆、二胆、狮屿、猛虎屿、草屿、后屿、东碇岛、复兴屿等十二个大小岛屿，总面积151.656平方公里。')]\n",
      "\n",
      "2838\n",
      "[('金门县辖有三镇（金城镇、金湖镇、金沙镇）、三乡（金宁乡、烈屿乡、乌坵乡（代管））。', '金门县辖3个镇、2个乡，分别是金城镇、金湖镇、金沙镇、金宁乡、烈屿乡。'), ('金门县辖有三镇（金城镇、金湖镇、金沙镇）、三乡（金宁乡、烈屿乡、乌坵乡（代管））。', '1954年6月，台当局在其控制的莆田县乌丘屿设置乌丘乡（乌丘村），由于莆田县主体已全部由中国大陆统治，故指定暂由金门县代管，此时金门县辖金城镇、金沙镇、金宁乡、金湖乡、金山乡、烈屿乡、乌丘乡（乌丘村）等二镇五乡。'), ('民国三十四年（1945年）第二次世界大战结束后，中华民国收复金门，设二镇四乡；民国35年（1946年）变更为二镇二乡。', '民国三十四年（1945年）第二次世界大战结束后，中华民国收回金门，设二镇四乡；民国三十五年（1946年）变更为二镇二乡。'), ('元朝统治（1343年-1368年），金门（旧称浯洲）金沙湾周围设有官镇埕、永安埕、田墩埕、浦头埕、沙美埕、斗门埕及南埕（今之刘澳、浦边至琼林一带）、保林（今之西浦头至古宁头一带）、东沙、烈屿（今之小金门上库至上林一带）等10个盐埕，官府为求实质统治与兴办教育，遂于浯洲凤翔里十七都后学村（今沙美），设置浯洲盐场司官阶从七品「今金沙国中游泳池至东埔一带」与浯洲书院「今沙美菜市场，渭阳 马阙 司令创建」，当时浯洲（金门旧称）盐产业到达颠峰，因盐场多集中于沙美区，造就沙美老街（砂尾街）万商云集与百业繁荣之极盛景况。', '元朝统治时期（1343年-1368年），中央为求实质统治，遂于浯洲凤翔里十七都后学村（今沙美），设置浯洲盐场司（官职从七品官，在今金沙国中至东埔及荣光新村一带）及浯洲书院（现今之沙美菜市场），沙美因处金沙湾与汶水溪及金沙溪交汇处。在元代，系为金门地区最高行政机关浯洲盐场司与浯洲书院之旧址（元朝浯洲盐场司马阙司令兴建）。过往的金沙地区更是金门地区居住人口与风狮爷最为稠密的地方（金门全岛共64尊风狮爷，金沙镇则高达39尊、沙美有3尊）。'), ('明代洪武二十年（1387年），朱元璋令江夏侯周德兴经略福建沿海，共设五卫十二所。金门守御千户所为十二所之一；兵部称呼金门是「金门所」，下辖峰上、官澳、田浦、陈坑四个巡检司，后又增设烈屿巡检司。因金门固守福建东南海口，取「固若金汤，雄镇海门」之意，而由浯洲改名为金门。', '明朝洪武二十年（公元1387年），明太祖朱元璋令江夏侯周德兴经略福建沿海，共设五卫十二所。金门守御千户所为十二所之一，明兵部称呼金门是“中左所”，下辖峰上、管澳、田浦、陈坑四个巡检司，后又增设烈屿巡检司。因金门固守福建东南海口，取“固若金汤，雄镇海门”之意而得名金门。'), ('民国107年（2018年）8月5日，中华人民共和国福建省泉州市正式向金门供水，缓解金门缺水问题，水源为山美水库。', '2010年9月26日，据台湾《联合报》报道，有台湾记者在Google地图上查询金门时，发现地图标注其为“中华人民共和国福建省泉州市金门县人民政府”。金门县政府表示，将向Google网站反映，要求“尽快更正”。'), ('民国37年（1948年）12月10日，中华民国政府发布全国戒严令，从此金门县进入戒严。民国38年（1949年）年初，改为金城、沙美、烈屿、大嶝四区区公所。8月17日，福州被解放军占领，福建省政府随著中华民国国军从福州市迁至金门，金门乃成为福建省省会所在地。同年10月，解放军进占福建沿海，中华民国国军自嶝岛群岛（大嶝、小嶝）撤退，古宁头战役爆发，金门全境进入「军管时期」，同年11月古宁头战役结束后，金门县政府建制被撤销，中华民国国军将金门全境划分为金东、金西、烈屿三个军管区，各设民政处管辖地方行政，下辖城厢区、金城区、金盘区、沧湖区、碧湖区、金沙区、烈屿区、古宁区、琼浦区等九个区公所。', '将金门主体全境划分为金东、金西、烈屿三个军管区，各设民政处管辖地方行政，下辖城厢区、金城区、金盘区、沧湖区、碧湖区、金沙区、烈屿区、古宁区、琼浦区等九个区公所。'), ('金门县是中华民国福建省实际管辖的两县之一。相较于台湾省各县市于1950年便实施地方自治及开放县市长民选，该县直至1992年底金马地区战地政务终止后，才实施地方自治，1993年开放县长民选。', '1992年11月7日，随着两岸关系趋向和缓，加上台湾各界力促金马地区解除戒严，台当局国防部门宣布金门县解除戒严，正式结束长达43年之久的戒严与实施36年的战地政务实验。'), ('民国42年（1953年）2月结束军管制度，改实施军政一元化的战地政务体制，金门县政府恢复建制，原金门军管区行政公署各行政区改为乡镇，成立三镇三乡，但地方行政的决策与指挥监督由陆军金门防卫司令部下设「政务委员会」负责，以军领政。民国43年（1954年）6月，莆田县乌坵地区设乡，指定由金门县代管，此时金门县共辖有金城镇、金沙镇、金宁乡、金湖乡、金山乡、烈屿乡、乌坵乡等二镇五乡。民国48年（1959年）增设金琼乡，并改金湖为镇。民国54年（1965年）9月，撤置金山乡及金琼乡。', '原金门军管区行政公署各行政区改为乡镇，成立三镇三乡，但地方行政的决策与指挥监督由金门防卫司令部下设的“政务委员会”负责，以军领政。'), ('民国42年（1953年）2月结束军管制度，改实施军政一元化的战地政务体制，金门县政府恢复建制，原金门军管区行政公署各行政区改为乡镇，成立三镇三乡，但地方行政的决策与指挥监督由陆军金门防卫司令部下设「政务委员会」负责，以军领政。民国43年（1954年）6月，莆田县乌坵地区设乡，指定由金门县代管，此时金门县共辖有金城镇、金沙镇、金宁乡、金湖乡、金山乡、烈屿乡、乌坵乡等二镇五乡。民国48年（1959年）增设金琼乡，并改金湖为镇。民国54年（1965年）9月，撤置金山乡及金琼乡。', '1954年6月，台当局在其控制的莆田县乌丘屿设置乌丘乡（乌丘村），由于莆田县主体已全部由中国大陆统治，故指定暂由金门县代管，此时金门县辖金城镇、金沙镇、金宁乡、金湖乡、金山乡、烈屿乡、乌丘乡（乌丘村）等二镇五乡。')]\n"
     ]
    }
   ],
   "source": [
    "b2w_dataset = pairs2dataset(sent_pairs_b2w)\n",
    "w2b_dataset = pairs2dataset(sent_pairs_w2b)\n",
    "print(len(b2w_dataset))\n",
    "print(b2w_dataset[:10])\n",
    "print()\n",
    "print(len(w2b_dataset))\n",
    "print(w2b_dataset[:10])"
   ]
  },
  {
   "cell_type": "code",
   "execution_count": 6,
   "id": "psychological-marathon",
   "metadata": {},
   "outputs": [
    {
     "ename": "NameError",
     "evalue": "name 'sentence_list' is not defined",
     "output_type": "error",
     "traceback": [
      "\u001b[0;31m---------------------------------------------------------------------------\u001b[0m",
      "\u001b[0;31mNameError\u001b[0m                                 Traceback (most recent call last)",
      "\u001b[0;32m/tmp/ipykernel_2468837/2073699464.py\u001b[0m in \u001b[0;36m<module>\u001b[0;34m\u001b[0m\n\u001b[1;32m      6\u001b[0m     \u001b[0;32mreturn\u001b[0m\u001b[0;34m\u001b[0m\u001b[0;34m\u001b[0m\u001b[0m\n\u001b[1;32m      7\u001b[0m \u001b[0;34m\u001b[0m\u001b[0m\n\u001b[0;32m----> 8\u001b[0;31m \u001b[0;32mfor\u001b[0m \u001b[0mi\u001b[0m\u001b[0;34m,\u001b[0m \u001b[0msentence\u001b[0m \u001b[0;32min\u001b[0m \u001b[0menumerate\u001b[0m\u001b[0;34m(\u001b[0m\u001b[0msentence_list\u001b[0m\u001b[0;34m)\u001b[0m\u001b[0;34m:\u001b[0m\u001b[0;34m\u001b[0m\u001b[0;34m\u001b[0m\u001b[0m\n\u001b[0m\u001b[1;32m      9\u001b[0m     \u001b[0mprint\u001b[0m\u001b[0;34m(\u001b[0m\u001b[0;34m)\u001b[0m\u001b[0;34m\u001b[0m\u001b[0;34m\u001b[0m\u001b[0m\n\u001b[1;32m     10\u001b[0m     \u001b[0mprint\u001b[0m\u001b[0;34m(\u001b[0m\u001b[0;34mf\"'{sentence}'\"\u001b[0m\u001b[0;34m)\u001b[0m\u001b[0;34m\u001b[0m\u001b[0;34m\u001b[0m\u001b[0m\n",
      "\u001b[0;31mNameError\u001b[0m: name 'sentence_list' is not defined"
     ]
    }
   ],
   "source": [
    "def print_word_pos_sentence(word_sentence, pos_sentence):\n",
    "    assert len(word_sentence) == len(pos_sentence)\n",
    "    for word, pos in zip(word_sentence, pos_sentence):\n",
    "        print(f\"{word}({pos})\", end=\"\\u3000\")\n",
    "    print()\n",
    "    return\n",
    "    \n",
    "for i, sentence in enumerate(sentence_list):\n",
    "    print()\n",
    "    print(f\"'{sentence}'\")\n",
    "    print_word_pos_sentence(word_sentence_list[i],  pos_sentence_list[i])\n",
    "    for entity in sorted(entity_sentence_list[i]):\n",
    "        print(entity)"
   ]
  }
 ],
 "metadata": {
  "kernelspec": {
   "display_name": "text_style_transfer",
   "language": "python",
   "name": "text_style_transfer"
  },
  "language_info": {
   "codemirror_mode": {
    "name": "ipython",
    "version": 3
   },
   "file_extension": ".py",
   "mimetype": "text/x-python",
   "name": "python",
   "nbconvert_exporter": "python",
   "pygments_lexer": "ipython3",
   "version": "3.9.7"
  }
 },
 "nbformat": 4,
 "nbformat_minor": 5
}
