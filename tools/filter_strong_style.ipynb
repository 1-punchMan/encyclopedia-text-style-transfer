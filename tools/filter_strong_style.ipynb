{
 "cells": [
  {
   "cell_type": "code",
   "execution_count": 1,
   "id": "reflected-juice",
   "metadata": {},
   "outputs": [],
   "source": [
    "import os"
   ]
  },
  {
   "cell_type": "code",
   "execution_count": 2,
   "id": "annual-chair",
   "metadata": {},
   "outputs": [],
   "source": [
    "def load(path):\n",
    "    with open(path, 'r') as f:\n",
    "        return [line.strip() for line in f.readlines()]\n",
    "\n",
    "def save(path, lines):\n",
    "    with open(path, 'w', encoding='utf-8') as f:\n",
    "        lines = ''.join([line + '\\n' for line in lines])\n",
    "        f.write(lines)\n",
    "        \n",
    "def filter_strong_style(datafile, probs_file, thresh, outpath):\n",
    "    lines = load(datafile)\n",
    "    probs = load(probs_file)\n",
    "    assert len(lines) == len(probs)\n",
    "    \n",
    "    lines = [line for line, p in zip(lines, probs) if float(p) > thresh]\n",
    "    print(f\"{len(lines)} / {len(probs)}\")\n",
    "    save(outpath, lines)"
   ]
  },
  {
   "cell_type": "code",
   "execution_count": 3,
   "id": "junior-franklin",
   "metadata": {},
   "outputs": [
    {
     "name": "stdout",
     "output_type": "stream",
     "text": [
      "3480535 / 6490933\n",
      "2681 / 5000\n",
      "2747 / 5000\n",
      "3336372 / 6515968\n",
      "2495 / 5000\n",
      "2583 / 5000\n"
     ]
    }
   ],
   "source": [
    "thresh = 0.85\n",
    "datapath1, datapath2 = (\n",
    "    \"/home/zchen/encyclopedia-text-style-transfer/data/ETST/wiki/processed_data_cleaned/\",\n",
    "    \"/home/zchen/encyclopedia-text-style-transfer/data/ETST/baidu/processed_data_cleaned/\"\n",
    ")\n",
    "for datapath in [datapath1, datapath2]:\n",
    "    dir = os.path.join(datapath, \"filtered\")\n",
    "    os.makedirs(dir)\n",
    "    for split in [\"train\", \"valid\", \"test\"]:\n",
    "        datafile = os.path.join(datapath, \"original\", split)\n",
    "        probs_file = os.path.join(datapath, \"original/probs\", split)\n",
    "        outpath = os.path.join(dir, split)\n",
    "        filter_strong_style(datafile, probs_file, thresh, outpath)"
   ]
  }
 ],
 "metadata": {
  "kernelspec": {
   "display_name": "Python 3",
   "language": "python",
   "name": "python3"
  },
  "language_info": {
   "codemirror_mode": {
    "name": "ipython",
    "version": 3
   },
   "file_extension": ".py",
   "mimetype": "text/x-python",
   "name": "python",
   "nbconvert_exporter": "python",
   "pygments_lexer": "ipython3",
   "version": "3.8.5"
  }
 },
 "nbformat": 4,
 "nbformat_minor": 5
}
