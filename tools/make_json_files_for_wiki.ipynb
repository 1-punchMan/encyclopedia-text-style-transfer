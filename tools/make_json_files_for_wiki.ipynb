{
 "cells": [
  {
   "cell_type": "code",
   "execution_count": 20,
   "id": "certain-excitement",
   "metadata": {},
   "outputs": [],
   "source": [
    "import os, json"
   ]
  },
  {
   "cell_type": "code",
   "execution_count": 21,
   "id": "floppy-mumbai",
   "metadata": {},
   "outputs": [],
   "source": [
    "def load(file):\n",
    "    with open(file, 'r', encoding=\"utf-8\") as f:\n",
    "        lines = f.readlines()\n",
    "    return lines\n",
    "\n",
    "def load_json_list(file):\n",
    "    lines = load(file)\n",
    "    arts = [json.loads(line) for line in lines]\n",
    "    return arts"
   ]
  },
  {
   "cell_type": "code",
   "execution_count": 22,
   "id": "rough-angle",
   "metadata": {},
   "outputs": [],
   "source": [
    "path = \"/home/zchen/encyclopedia-text-style-transfer/data/ETST/wiki/raw_data/json/\"\n",
    "dirs = os.listdir(path)\n",
    "arts = []\n",
    "for d in dirs:\n",
    "    subpath = path + d\n",
    "    files = os.listdir(subpath)\n",
    "    for file in files:\n",
    "        arts += load_json_list(os.path.join(subpath, file))"
   ]
  },
  {
   "cell_type": "code",
   "execution_count": 23,
   "id": "south-speaking",
   "metadata": {},
   "outputs": [
    {
     "name": "stdout",
     "output_type": "stream",
     "text": [
      "# articles: 2152964\n",
      "# articles: 1177183\n"
     ]
    }
   ],
   "source": [
    "print(f\"# articles: {len(arts)}\")\n",
    "\n",
    "arts = {art[\"title\"]: art[\"text\"] for art in arts if art[\"text\"]}\n",
    "print(f\"# articles: {len(arts)}\")"
   ]
  },
  {
   "cell_type": "code",
   "execution_count": 24,
   "id": "spare-entrance",
   "metadata": {},
   "outputs": [],
   "source": [
    "file = \"/home/zchen/encyclopedia-text-style-transfer/data/ETST/wiki/raw_data/all.json\"\n",
    "with open(file, 'w', encoding=\"utf-8\") as f:\n",
    "    json.dump(arts, f, ensure_ascii=False)"
   ]
  }
 ],
 "metadata": {
  "kernelspec": {
   "display_name": "Python 3",
   "language": "python",
   "name": "python3"
  },
  "language_info": {
   "codemirror_mode": {
    "name": "ipython",
    "version": 3
   },
   "file_extension": ".py",
   "mimetype": "text/x-python",
   "name": "python",
   "nbconvert_exporter": "python",
   "pygments_lexer": "ipython3",
   "version": "3.8.5"
  }
 },
 "nbformat": 4,
 "nbformat_minor": 5
}
